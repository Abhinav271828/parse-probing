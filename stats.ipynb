{
 "cells": [
  {
   "cell_type": "code",
   "execution_count": 47,
   "metadata": {},
   "outputs": [],
   "source": [
    "from random import random, choice, randint"
   ]
  },
  {
   "cell_type": "code",
   "execution_count": 61,
   "metadata": {},
   "outputs": [],
   "source": [
    "L = 6\n",
    "file = f'expr{L}.txt'"
   ]
  },
  {
   "cell_type": "code",
   "execution_count": 62,
   "metadata": {},
   "outputs": [
    {
     "name": "stdout",
     "output_type": "stream",
     "text": [
      "Fail 3758475\n",
      "Succeed [0, 6576750, 0, 906750, 0, 148650, 0]\n"
     ]
    }
   ],
   "source": [
    "with open(file, 'r') as f:\n",
    "    fail = 0\n",
    "    succeed = [0 for _ in range(L+1)]\n",
    "    for line in f:\n",
    "        if ',' in line[:-1]:\n",
    "            fail += 1\n",
    "            continue\n",
    "        s = line[:-1].index('|')\n",
    "        succeed[s] += 1\n",
    "\n",
    "print(f\"Fail {fail}\")\n",
    "print(f\"Succeed {succeed}\")"
   ]
  },
  {
   "cell_type": "markdown",
   "metadata": {},
   "source": [
    "# Star\n",
    "No strings fail in `Star`; we pick uniformly from the strings.\n",
    "\n",
    "We aim for test and validation sets with $5\\cdot10^4$ strings (5%) each, and a train set with roughly $10^5$ strings (10%)."
   ]
  },
  {
   "cell_type": "code",
   "execution_count": 8,
   "metadata": {},
   "outputs": [],
   "source": [
    "with open('star/train.txt', 'w') as train, \\\n",
    "     open('star/val.txt', 'w') as val, \\\n",
    "     open('star/test.txt', 'w') as test, \\\n",
    "     open(file, 'r') as f:\n",
    "    for line in f:\n",
    "        r = random()\n",
    "        if (r <= 0.05):\n",
    "            test.write(line)\n",
    "        elif (r <= 0.1):\n",
    "            val.write(line)\n",
    "        elif (r <= 0.2):\n",
    "            train.write(line)"
   ]
  },
  {
   "cell_type": "markdown",
   "metadata": {},
   "source": [
    "# Brack\n",
    "In `Brack`, we have about 40k strings that succeed (of various lengths). We therefore create train, test and validation sets with a 50-50 distribution between succeeding and failing strings. We pick all the succeeding strings and appropriately select the proportion of failing strings (about 4%)."
   ]
  },
  {
   "cell_type": "code",
   "execution_count": 58,
   "metadata": {},
   "outputs": [],
   "source": [
    "with open('brack/train.txt', 'w') as train, \\\n",
    "     open('brack/val.txt', 'w') as val, \\\n",
    "     open('brack/test.txt', 'w') as test, \\\n",
    "     open(file, 'r') as f:\n",
    "     for line in f:\n",
    "          r = random()\n",
    "          if ',' in line[:-1]:\n",
    "               if (r <= 0.02):\n",
    "                    train.write(line)\n",
    "               elif (r <= 0.03):\n",
    "                    test.write(line)\n",
    "               elif (r <= 0.04):\n",
    "                    val.write(line)\n",
    "          else:\n",
    "               if (r <= 0.5):\n",
    "                    train.write(line)\n",
    "               elif (r <= 0.75):\n",
    "                    test.write(line)\n",
    "               else:\n",
    "                    val.write(line)"
   ]
  },
  {
   "cell_type": "markdown",
   "metadata": {},
   "source": [
    "# Expr\n",
    "We can generate strings for `Expr` without enumerating. There can only be an odd number of strings; thus we generate roughly 5000 strings of each length in the range from 3 to 21 (inclusive), plus 500 single-digit datapoints.\n",
    "For a given length $L$:\n",
    "\n",
    "* Pick a random number of (pairs of) brackets, $B \\in \\left[0, \\frac{L-1}{2}\\right]$.\n",
    "* Generate a random string of length $L- 2B$, by alternating between digits and operators.\n",
    "* (Repeat $B$ times): Pick two random, distinct digits in the string, and insert brackets before the first and after the second.\n",
    "\n",
    "We also pick 50000 failing strings (about 1.3%) from the enumerated strings.\n",
    "\n",
    "We follow similar procedures for the test and val datasets.\n",
    "\n",
    "For uniformity, we pad all strings to have length 21."
   ]
  },
  {
   "cell_type": "code",
   "execution_count": 69,
   "metadata": {},
   "outputs": [],
   "source": [
    "# Failing strings first\n",
    "with open('expr/train.txt', 'w') as train, \\\n",
    "     open('expr/val.txt', 'w') as val, \\\n",
    "     open('expr/test.txt', 'w') as test, \\\n",
    "     open(file, 'r') as f:\n",
    "     for line in f:\n",
    "          r = random()\n",
    "          if ',' in line[:-1]:\n",
    "               if (r <= 0.013):\n",
    "                    train.write(line[:-1])\n",
    "                    for _ in range(15):\n",
    "                         train.write(choice(['0', '1', '2', '3', '4', '5', '6', '7', '8', '9', '+', '×', '^', '[', ']']))\n",
    "                    train.write('\\n')\n",
    "               elif (r <= 0.019):\n",
    "                    val.write(line[:-1])\n",
    "                    for _ in range(15):\n",
    "                         val.write(choice(['0', '1', '2', '3', '4', '5', '6', '7', '8', '9', '+', '×', '^', '[', ']']))\n",
    "                    val.write('\\n')\n",
    "               elif (r <= 0.026):\n",
    "                    test.write(line[:-1])\n",
    "                    for _ in range(15):\n",
    "                         test.write(choice(['0', '1', '2', '3', '4', '5', '6', '7', '8', '9', '+', '×', '^', '[', ']']))\n",
    "                    test.write('\\n')"
   ]
  },
  {
   "cell_type": "code",
   "execution_count": 70,
   "metadata": {},
   "outputs": [],
   "source": [
    "# Succeeding strings\n",
    "def gen_string(L):\n",
    "     B = int(random() * (L-1)/2)\n",
    "     s = ''\n",
    "     for i in range(L-2*B):\n",
    "          if (i % 2 == 0):\n",
    "               s += choice(['0', '1', '2', '3', '4', '5', '6', '7', '8', '9'])\n",
    "          else:\n",
    "               s += choice(['+', '×', '^'])\n",
    "     for _ in range(B):\n",
    "          dig_pos = [i for i, c in enumerate(s) if c in ['0', '1', '2', '3', '4', '5', '6', '7', '8', '9']]\n",
    "          b1 = choice(dig_pos)\n",
    "          b2 = choice([p for p in dig_pos if p >= b1])\n",
    "          s = s[:b1] + '[' + s[b1:b2+1] + ']' + s[b2+1:]\n",
    "\n",
    "     if L == 21:\n",
    "          return s\n",
    "\n",
    "     s += '|' + choice(['0', '1', '2', '3', '4', '5', '6', '7', '8', '9', '[', ']'])\n",
    "     while (len(s) < 21):\n",
    "          s += choice(['0', '1', '2', '3', '4', '5', '6', '7', '8', '9', '+', '×', '^', '[', ']'])\n",
    "     return s\n",
    "\n",
    "with open('expr/train.txt', 'a') as train:\n",
    "     for L in range(3, 22, 2):\n",
    "          for _ in range(5000):\n",
    "               train.write(gen_string(L) +'\\n')\n",
    "     for _ in range(500):\n",
    "          train.write(str(randint(0, 9)) + '|')\n",
    "          train.write(choice(['0', '1', '2', '3', '4', '5', '6', '7', '8', '9', '[', ']']))\n",
    "          for _ in range(20):\n",
    "               train.write(choice(['0', '1', '2', '3', '4', '5', '6', '7', '8', '9', '+', '×', '^', '[', ']']))\n",
    "          train.write('\\n')\n",
    "\n",
    "with open('expr/test.txt', 'a') as test:\n",
    "     for L in range(3, 22, 2):\n",
    "          for _ in range(2500):\n",
    "               test.write(gen_string(L) +'\\n')\n",
    "     for _ in range(250):\n",
    "          test.write(str(randint(0, 9))+'|')\n",
    "          test.write(choice(['0', '1', '2', '3', '4', '5', '6', '7', '8', '9', '[', ']']))\n",
    "          for _ in range(20):\n",
    "               test.write(choice(['0', '1', '2', '3', '4', '5', '6', '7', '8', '9', '+', '×', '^', '[', ']']))\n",
    "          test.write('\\n')\n",
    "\n",
    "with open('expr/val.txt', 'a') as val:\n",
    "     for L in range(3, 22, 2):\n",
    "          for _ in range(2500):\n",
    "               val.write(gen_string(L) +'\\n')\n",
    "     for _ in range(250):\n",
    "          val.write(str(randint(0, 9))+'|')\n",
    "          val.write(choice(['0', '1', '2', '3', '4', '5', '6', '7', '8', '9', '[', ']']))\n",
    "          for _ in range(20):\n",
    "               val.write(choice(['0', '1', '2', '3', '4', '5', '6', '7', '8', '9', '+', '×', '^', '[', ']']))\n",
    "          val.write('\\n')"
   ]
  }
 ],
 "metadata": {
  "kernelspec": {
   "display_name": "Python 3",
   "language": "python",
   "name": "python3"
  },
  "language_info": {
   "codemirror_mode": {
    "name": "ipython",
    "version": 3
   },
   "file_extension": ".py",
   "mimetype": "text/x-python",
   "name": "python",
   "nbconvert_exporter": "python",
   "pygments_lexer": "ipython3",
   "version": "3.11.6"
  }
 },
 "nbformat": 4,
 "nbformat_minor": 2
}
